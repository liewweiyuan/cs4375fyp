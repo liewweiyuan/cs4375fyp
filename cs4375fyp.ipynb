{
  "nbformat": 4,
  "nbformat_minor": 0,
  "metadata": {
    "colab": {
      "provenance": [],
      "mount_file_id": "1Lbk3H-253EAdUUWbecTe4FqwF-uD8SQQ",
      "authorship_tag": "ABX9TyOW4sgsm6STt17Q85aOhdmf",
      "include_colab_link": true
    },
    "kernelspec": {
      "name": "python3",
      "display_name": "Python 3"
    },
    "language_info": {
      "name": "python"
    }
  },
  "cells": [
    {
      "cell_type": "markdown",
      "metadata": {
        "id": "view-in-github",
        "colab_type": "text"
      },
      "source": [
        "<a href=\"https://colab.research.google.com/github/liewweiyuan/cs4375fyp/blob/main/cs4375fyp.ipynb\" target=\"_parent\"><img src=\"https://colab.research.google.com/assets/colab-badge.svg\" alt=\"Open In Colab\"/></a>"
      ]
    },
    {
      "cell_type": "markdown",
      "source": [
        "This is a project that takes this given dataset:\n",
        "\n",
        "https://www.kaggle.com/datasets/mlg-ulb/creditcardfraud/data\n",
        "\n",
        "process it, and turns it into a FFNN-based credit card fraud detector\n",
        "\n",
        "Firstly, we have to start by visualize and process the data."
      ],
      "metadata": {
        "id": "AcurGTaTJ4aZ"
      }
    },
    {
      "cell_type": "code",
      "source": [
        "import numpy as np\n",
        "import pandas as pd\n",
        "import seaborn as sns\n",
        "import matplotlib.pyplot as plt\n",
        "import torch\n",
        "import torch.nn as nn\n",
        "import torch.optim as optim\n",
        "from tqdm import tqdm\n",
        "import time\n",
        "import random\n",
        "\n",
        "HIDDEN = 16\n",
        "EPOCHS = 10\n",
        "\n",
        "class FFNN(nn.Module):\n",
        "    def __init__(self, input_dim, h):\n",
        "        super(FFNN, self).__init__()\n",
        "        self.h = h\n",
        "        self.W1 = nn.Linear(input_dim, h)\n",
        "        self.activation = nn.ReLU() # The rectified linear unit; one valid choice of activation function\n",
        "        self.output_dim = 2 # Either transaction is fraud or not a fraud\n",
        "        self.W2 = nn.Linear(h, self.output_dim)\n",
        "\n",
        "        self.softmax = nn.LogSoftmax() # The softmax function that converts vectors into probability distributions; computes log probabilities for computational benefits\n",
        "        self.loss = nn.NLLLoss() # The cross-entropy/negative log likelihood loss taught in class\n",
        "\n",
        "    def compute_Loss(self, predicted_vector, gold_label):\n",
        "        return self.loss(predicted_vector, gold_label)\n",
        "\n",
        "    def forward(self, input_vector):\n",
        "        # [to fill] obtain first hidden layer representation\n",
        "        hidden = self.activation(self.W1(input_vector))\n",
        "\n",
        "        # [to fill] obtain output layer representation\n",
        "        output = self.W2(hidden)\n",
        "\n",
        "        # [to fill] obtain probability dist.\n",
        "        predicted_vector = self.softmax(output)\n",
        "\n",
        "        return predicted_vector\n",
        "\n",
        "def load_data():\n",
        "  URL_='creditcard.csv'\n",
        "  data = pd.read_csv(URL_)\n",
        "  return data\n",
        "\n",
        "df = load_data()\n",
        "df.shape"
      ],
      "metadata": {
        "id": "WGpNsGK-KT34",
        "colab": {
          "base_uri": "https://localhost:8080/"
        },
        "outputId": "4be339e9-0fed-413b-8a3f-99a048eff2cf"
      },
      "execution_count": null,
      "outputs": [
        {
          "output_type": "execute_result",
          "data": {
            "text/plain": [
              "(284807, 31)"
            ]
          },
          "metadata": {},
          "execution_count": 1
        }
      ]
    },
    {
      "cell_type": "code",
      "source": [
        "df.head() # lets us see what values of each column means"
      ],
      "metadata": {
        "colab": {
          "base_uri": "https://localhost:8080/",
          "height": 236
        },
        "id": "PB7DUM3Drau_",
        "outputId": "c4a4dfd8-d011-4219-c928-70ea799ca4d8"
      },
      "execution_count": null,
      "outputs": [
        {
          "output_type": "execute_result",
          "data": {
            "text/plain": [
              "   Time        V1        V2        V3        V4        V5        V6        V7  \\\n",
              "0   0.0 -1.359807 -0.072781  2.536347  1.378155 -0.338321  0.462388  0.239599   \n",
              "1   0.0  1.191857  0.266151  0.166480  0.448154  0.060018 -0.082361 -0.078803   \n",
              "2   1.0 -1.358354 -1.340163  1.773209  0.379780 -0.503198  1.800499  0.791461   \n",
              "3   1.0 -0.966272 -0.185226  1.792993 -0.863291 -0.010309  1.247203  0.237609   \n",
              "4   2.0 -1.158233  0.877737  1.548718  0.403034 -0.407193  0.095921  0.592941   \n",
              "\n",
              "         V8        V9  ...       V21       V22       V23       V24       V25  \\\n",
              "0  0.098698  0.363787  ... -0.018307  0.277838 -0.110474  0.066928  0.128539   \n",
              "1  0.085102 -0.255425  ... -0.225775 -0.638672  0.101288 -0.339846  0.167170   \n",
              "2  0.247676 -1.514654  ...  0.247998  0.771679  0.909412 -0.689281 -0.327642   \n",
              "3  0.377436 -1.387024  ... -0.108300  0.005274 -0.190321 -1.175575  0.647376   \n",
              "4 -0.270533  0.817739  ... -0.009431  0.798278 -0.137458  0.141267 -0.206010   \n",
              "\n",
              "        V26       V27       V28  Amount  Class  \n",
              "0 -0.189115  0.133558 -0.021053  149.62      0  \n",
              "1  0.125895 -0.008983  0.014724    2.69      0  \n",
              "2 -0.139097 -0.055353 -0.059752  378.66      0  \n",
              "3 -0.221929  0.062723  0.061458  123.50      0  \n",
              "4  0.502292  0.219422  0.215153   69.99      0  \n",
              "\n",
              "[5 rows x 31 columns]"
            ],
            "text/html": [
              "\n",
              "  <div id=\"df-ea3980f6-9fbe-4593-9912-942ec4af2038\" class=\"colab-df-container\">\n",
              "    <div>\n",
              "<style scoped>\n",
              "    .dataframe tbody tr th:only-of-type {\n",
              "        vertical-align: middle;\n",
              "    }\n",
              "\n",
              "    .dataframe tbody tr th {\n",
              "        vertical-align: top;\n",
              "    }\n",
              "\n",
              "    .dataframe thead th {\n",
              "        text-align: right;\n",
              "    }\n",
              "</style>\n",
              "<table border=\"1\" class=\"dataframe\">\n",
              "  <thead>\n",
              "    <tr style=\"text-align: right;\">\n",
              "      <th></th>\n",
              "      <th>Time</th>\n",
              "      <th>V1</th>\n",
              "      <th>V2</th>\n",
              "      <th>V3</th>\n",
              "      <th>V4</th>\n",
              "      <th>V5</th>\n",
              "      <th>V6</th>\n",
              "      <th>V7</th>\n",
              "      <th>V8</th>\n",
              "      <th>V9</th>\n",
              "      <th>...</th>\n",
              "      <th>V21</th>\n",
              "      <th>V22</th>\n",
              "      <th>V23</th>\n",
              "      <th>V24</th>\n",
              "      <th>V25</th>\n",
              "      <th>V26</th>\n",
              "      <th>V27</th>\n",
              "      <th>V28</th>\n",
              "      <th>Amount</th>\n",
              "      <th>Class</th>\n",
              "    </tr>\n",
              "  </thead>\n",
              "  <tbody>\n",
              "    <tr>\n",
              "      <th>0</th>\n",
              "      <td>0.0</td>\n",
              "      <td>-1.359807</td>\n",
              "      <td>-0.072781</td>\n",
              "      <td>2.536347</td>\n",
              "      <td>1.378155</td>\n",
              "      <td>-0.338321</td>\n",
              "      <td>0.462388</td>\n",
              "      <td>0.239599</td>\n",
              "      <td>0.098698</td>\n",
              "      <td>0.363787</td>\n",
              "      <td>...</td>\n",
              "      <td>-0.018307</td>\n",
              "      <td>0.277838</td>\n",
              "      <td>-0.110474</td>\n",
              "      <td>0.066928</td>\n",
              "      <td>0.128539</td>\n",
              "      <td>-0.189115</td>\n",
              "      <td>0.133558</td>\n",
              "      <td>-0.021053</td>\n",
              "      <td>149.62</td>\n",
              "      <td>0</td>\n",
              "    </tr>\n",
              "    <tr>\n",
              "      <th>1</th>\n",
              "      <td>0.0</td>\n",
              "      <td>1.191857</td>\n",
              "      <td>0.266151</td>\n",
              "      <td>0.166480</td>\n",
              "      <td>0.448154</td>\n",
              "      <td>0.060018</td>\n",
              "      <td>-0.082361</td>\n",
              "      <td>-0.078803</td>\n",
              "      <td>0.085102</td>\n",
              "      <td>-0.255425</td>\n",
              "      <td>...</td>\n",
              "      <td>-0.225775</td>\n",
              "      <td>-0.638672</td>\n",
              "      <td>0.101288</td>\n",
              "      <td>-0.339846</td>\n",
              "      <td>0.167170</td>\n",
              "      <td>0.125895</td>\n",
              "      <td>-0.008983</td>\n",
              "      <td>0.014724</td>\n",
              "      <td>2.69</td>\n",
              "      <td>0</td>\n",
              "    </tr>\n",
              "    <tr>\n",
              "      <th>2</th>\n",
              "      <td>1.0</td>\n",
              "      <td>-1.358354</td>\n",
              "      <td>-1.340163</td>\n",
              "      <td>1.773209</td>\n",
              "      <td>0.379780</td>\n",
              "      <td>-0.503198</td>\n",
              "      <td>1.800499</td>\n",
              "      <td>0.791461</td>\n",
              "      <td>0.247676</td>\n",
              "      <td>-1.514654</td>\n",
              "      <td>...</td>\n",
              "      <td>0.247998</td>\n",
              "      <td>0.771679</td>\n",
              "      <td>0.909412</td>\n",
              "      <td>-0.689281</td>\n",
              "      <td>-0.327642</td>\n",
              "      <td>-0.139097</td>\n",
              "      <td>-0.055353</td>\n",
              "      <td>-0.059752</td>\n",
              "      <td>378.66</td>\n",
              "      <td>0</td>\n",
              "    </tr>\n",
              "    <tr>\n",
              "      <th>3</th>\n",
              "      <td>1.0</td>\n",
              "      <td>-0.966272</td>\n",
              "      <td>-0.185226</td>\n",
              "      <td>1.792993</td>\n",
              "      <td>-0.863291</td>\n",
              "      <td>-0.010309</td>\n",
              "      <td>1.247203</td>\n",
              "      <td>0.237609</td>\n",
              "      <td>0.377436</td>\n",
              "      <td>-1.387024</td>\n",
              "      <td>...</td>\n",
              "      <td>-0.108300</td>\n",
              "      <td>0.005274</td>\n",
              "      <td>-0.190321</td>\n",
              "      <td>-1.175575</td>\n",
              "      <td>0.647376</td>\n",
              "      <td>-0.221929</td>\n",
              "      <td>0.062723</td>\n",
              "      <td>0.061458</td>\n",
              "      <td>123.50</td>\n",
              "      <td>0</td>\n",
              "    </tr>\n",
              "    <tr>\n",
              "      <th>4</th>\n",
              "      <td>2.0</td>\n",
              "      <td>-1.158233</td>\n",
              "      <td>0.877737</td>\n",
              "      <td>1.548718</td>\n",
              "      <td>0.403034</td>\n",
              "      <td>-0.407193</td>\n",
              "      <td>0.095921</td>\n",
              "      <td>0.592941</td>\n",
              "      <td>-0.270533</td>\n",
              "      <td>0.817739</td>\n",
              "      <td>...</td>\n",
              "      <td>-0.009431</td>\n",
              "      <td>0.798278</td>\n",
              "      <td>-0.137458</td>\n",
              "      <td>0.141267</td>\n",
              "      <td>-0.206010</td>\n",
              "      <td>0.502292</td>\n",
              "      <td>0.219422</td>\n",
              "      <td>0.215153</td>\n",
              "      <td>69.99</td>\n",
              "      <td>0</td>\n",
              "    </tr>\n",
              "  </tbody>\n",
              "</table>\n",
              "<p>5 rows × 31 columns</p>\n",
              "</div>\n",
              "    <div class=\"colab-df-buttons\">\n",
              "\n",
              "  <div class=\"colab-df-container\">\n",
              "    <button class=\"colab-df-convert\" onclick=\"convertToInteractive('df-ea3980f6-9fbe-4593-9912-942ec4af2038')\"\n",
              "            title=\"Convert this dataframe to an interactive table.\"\n",
              "            style=\"display:none;\">\n",
              "\n",
              "  <svg xmlns=\"http://www.w3.org/2000/svg\" height=\"24px\" viewBox=\"0 -960 960 960\">\n",
              "    <path d=\"M120-120v-720h720v720H120Zm60-500h600v-160H180v160Zm220 220h160v-160H400v160Zm0 220h160v-160H400v160ZM180-400h160v-160H180v160Zm440 0h160v-160H620v160ZM180-180h160v-160H180v160Zm440 0h160v-160H620v160Z\"/>\n",
              "  </svg>\n",
              "    </button>\n",
              "\n",
              "  <style>\n",
              "    .colab-df-container {\n",
              "      display:flex;\n",
              "      gap: 12px;\n",
              "    }\n",
              "\n",
              "    .colab-df-convert {\n",
              "      background-color: #E8F0FE;\n",
              "      border: none;\n",
              "      border-radius: 50%;\n",
              "      cursor: pointer;\n",
              "      display: none;\n",
              "      fill: #1967D2;\n",
              "      height: 32px;\n",
              "      padding: 0 0 0 0;\n",
              "      width: 32px;\n",
              "    }\n",
              "\n",
              "    .colab-df-convert:hover {\n",
              "      background-color: #E2EBFA;\n",
              "      box-shadow: 0px 1px 2px rgba(60, 64, 67, 0.3), 0px 1px 3px 1px rgba(60, 64, 67, 0.15);\n",
              "      fill: #174EA6;\n",
              "    }\n",
              "\n",
              "    .colab-df-buttons div {\n",
              "      margin-bottom: 4px;\n",
              "    }\n",
              "\n",
              "    [theme=dark] .colab-df-convert {\n",
              "      background-color: #3B4455;\n",
              "      fill: #D2E3FC;\n",
              "    }\n",
              "\n",
              "    [theme=dark] .colab-df-convert:hover {\n",
              "      background-color: #434B5C;\n",
              "      box-shadow: 0px 1px 3px 1px rgba(0, 0, 0, 0.15);\n",
              "      filter: drop-shadow(0px 1px 2px rgba(0, 0, 0, 0.3));\n",
              "      fill: #FFFFFF;\n",
              "    }\n",
              "  </style>\n",
              "\n",
              "    <script>\n",
              "      const buttonEl =\n",
              "        document.querySelector('#df-ea3980f6-9fbe-4593-9912-942ec4af2038 button.colab-df-convert');\n",
              "      buttonEl.style.display =\n",
              "        google.colab.kernel.accessAllowed ? 'block' : 'none';\n",
              "\n",
              "      async function convertToInteractive(key) {\n",
              "        const element = document.querySelector('#df-ea3980f6-9fbe-4593-9912-942ec4af2038');\n",
              "        const dataTable =\n",
              "          await google.colab.kernel.invokeFunction('convertToInteractive',\n",
              "                                                    [key], {});\n",
              "        if (!dataTable) return;\n",
              "\n",
              "        const docLinkHtml = 'Like what you see? Visit the ' +\n",
              "          '<a target=\"_blank\" href=https://colab.research.google.com/notebooks/data_table.ipynb>data table notebook</a>'\n",
              "          + ' to learn more about interactive tables.';\n",
              "        element.innerHTML = '';\n",
              "        dataTable['output_type'] = 'display_data';\n",
              "        await google.colab.output.renderOutput(dataTable, element);\n",
              "        const docLink = document.createElement('div');\n",
              "        docLink.innerHTML = docLinkHtml;\n",
              "        element.appendChild(docLink);\n",
              "      }\n",
              "    </script>\n",
              "  </div>\n",
              "\n",
              "\n",
              "<div id=\"df-a86a04bd-7d6c-4190-abc9-b03e4fdb6aa9\">\n",
              "  <button class=\"colab-df-quickchart\" onclick=\"quickchart('df-a86a04bd-7d6c-4190-abc9-b03e4fdb6aa9')\"\n",
              "            title=\"Suggest charts\"\n",
              "            style=\"display:none;\">\n",
              "\n",
              "<svg xmlns=\"http://www.w3.org/2000/svg\" height=\"24px\"viewBox=\"0 0 24 24\"\n",
              "     width=\"24px\">\n",
              "    <g>\n",
              "        <path d=\"M19 3H5c-1.1 0-2 .9-2 2v14c0 1.1.9 2 2 2h14c1.1 0 2-.9 2-2V5c0-1.1-.9-2-2-2zM9 17H7v-7h2v7zm4 0h-2V7h2v10zm4 0h-2v-4h2v4z\"/>\n",
              "    </g>\n",
              "</svg>\n",
              "  </button>\n",
              "\n",
              "<style>\n",
              "  .colab-df-quickchart {\n",
              "      --bg-color: #E8F0FE;\n",
              "      --fill-color: #1967D2;\n",
              "      --hover-bg-color: #E2EBFA;\n",
              "      --hover-fill-color: #174EA6;\n",
              "      --disabled-fill-color: #AAA;\n",
              "      --disabled-bg-color: #DDD;\n",
              "  }\n",
              "\n",
              "  [theme=dark] .colab-df-quickchart {\n",
              "      --bg-color: #3B4455;\n",
              "      --fill-color: #D2E3FC;\n",
              "      --hover-bg-color: #434B5C;\n",
              "      --hover-fill-color: #FFFFFF;\n",
              "      --disabled-bg-color: #3B4455;\n",
              "      --disabled-fill-color: #666;\n",
              "  }\n",
              "\n",
              "  .colab-df-quickchart {\n",
              "    background-color: var(--bg-color);\n",
              "    border: none;\n",
              "    border-radius: 50%;\n",
              "    cursor: pointer;\n",
              "    display: none;\n",
              "    fill: var(--fill-color);\n",
              "    height: 32px;\n",
              "    padding: 0;\n",
              "    width: 32px;\n",
              "  }\n",
              "\n",
              "  .colab-df-quickchart:hover {\n",
              "    background-color: var(--hover-bg-color);\n",
              "    box-shadow: 0 1px 2px rgba(60, 64, 67, 0.3), 0 1px 3px 1px rgba(60, 64, 67, 0.15);\n",
              "    fill: var(--button-hover-fill-color);\n",
              "  }\n",
              "\n",
              "  .colab-df-quickchart-complete:disabled,\n",
              "  .colab-df-quickchart-complete:disabled:hover {\n",
              "    background-color: var(--disabled-bg-color);\n",
              "    fill: var(--disabled-fill-color);\n",
              "    box-shadow: none;\n",
              "  }\n",
              "\n",
              "  .colab-df-spinner {\n",
              "    border: 2px solid var(--fill-color);\n",
              "    border-color: transparent;\n",
              "    border-bottom-color: var(--fill-color);\n",
              "    animation:\n",
              "      spin 1s steps(1) infinite;\n",
              "  }\n",
              "\n",
              "  @keyframes spin {\n",
              "    0% {\n",
              "      border-color: transparent;\n",
              "      border-bottom-color: var(--fill-color);\n",
              "      border-left-color: var(--fill-color);\n",
              "    }\n",
              "    20% {\n",
              "      border-color: transparent;\n",
              "      border-left-color: var(--fill-color);\n",
              "      border-top-color: var(--fill-color);\n",
              "    }\n",
              "    30% {\n",
              "      border-color: transparent;\n",
              "      border-left-color: var(--fill-color);\n",
              "      border-top-color: var(--fill-color);\n",
              "      border-right-color: var(--fill-color);\n",
              "    }\n",
              "    40% {\n",
              "      border-color: transparent;\n",
              "      border-right-color: var(--fill-color);\n",
              "      border-top-color: var(--fill-color);\n",
              "    }\n",
              "    60% {\n",
              "      border-color: transparent;\n",
              "      border-right-color: var(--fill-color);\n",
              "    }\n",
              "    80% {\n",
              "      border-color: transparent;\n",
              "      border-right-color: var(--fill-color);\n",
              "      border-bottom-color: var(--fill-color);\n",
              "    }\n",
              "    90% {\n",
              "      border-color: transparent;\n",
              "      border-bottom-color: var(--fill-color);\n",
              "    }\n",
              "  }\n",
              "</style>\n",
              "\n",
              "  <script>\n",
              "    async function quickchart(key) {\n",
              "      const quickchartButtonEl =\n",
              "        document.querySelector('#' + key + ' button');\n",
              "      quickchartButtonEl.disabled = true;  // To prevent multiple clicks.\n",
              "      quickchartButtonEl.classList.add('colab-df-spinner');\n",
              "      try {\n",
              "        const charts = await google.colab.kernel.invokeFunction(\n",
              "            'suggestCharts', [key], {});\n",
              "      } catch (error) {\n",
              "        console.error('Error during call to suggestCharts:', error);\n",
              "      }\n",
              "      quickchartButtonEl.classList.remove('colab-df-spinner');\n",
              "      quickchartButtonEl.classList.add('colab-df-quickchart-complete');\n",
              "    }\n",
              "    (() => {\n",
              "      let quickchartButtonEl =\n",
              "        document.querySelector('#df-a86a04bd-7d6c-4190-abc9-b03e4fdb6aa9 button');\n",
              "      quickchartButtonEl.style.display =\n",
              "        google.colab.kernel.accessAllowed ? 'block' : 'none';\n",
              "    })();\n",
              "  </script>\n",
              "</div>\n",
              "\n",
              "    </div>\n",
              "  </div>\n"
            ],
            "application/vnd.google.colaboratory.intrinsic+json": {
              "type": "dataframe",
              "variable_name": "df"
            }
          },
          "metadata": {},
          "execution_count": 2
        }
      ]
    },
    {
      "cell_type": "code",
      "source": [
        "df.isnull().sum().max() # checks if dataset has any null values"
      ],
      "metadata": {
        "colab": {
          "base_uri": "https://localhost:8080/"
        },
        "id": "UJ1-irg-szsl",
        "outputId": "1aa526af-ed21-458c-bad0-fbdf03926573"
      },
      "execution_count": null,
      "outputs": [
        {
          "output_type": "execute_result",
          "data": {
            "text/plain": [
              "0"
            ]
          },
          "metadata": {},
          "execution_count": 3
        }
      ]
    },
    {
      "cell_type": "code",
      "source": [
        "df['Class'].value_counts()"
      ],
      "metadata": {
        "id": "S7pncF4K-PGi",
        "colab": {
          "base_uri": "https://localhost:8080/"
        },
        "outputId": "43a8c866-bc21-4cb2-d073-adb93ddd44ba"
      },
      "execution_count": null,
      "outputs": [
        {
          "output_type": "execute_result",
          "data": {
            "text/plain": [
              "Class\n",
              "0    284315\n",
              "1       492\n",
              "Name: count, dtype: int64"
            ]
          },
          "metadata": {},
          "execution_count": 15
        }
      ]
    },
    {
      "cell_type": "code",
      "source": [
        "sns.countplot(data=df, x='Class')\n",
        "plt.title('Class Distributions \\n (0: No Fraud || 1: Fraud)', fontsize=14)\n",
        "plt.show()"
      ],
      "metadata": {
        "colab": {
          "base_uri": "https://localhost:8080/",
          "height": 495
        },
        "id": "CpW1XFNhLC3k",
        "outputId": "90e0fcbb-a4cb-43c6-beb3-f87cd9ff5221"
      },
      "execution_count": null,
      "outputs": [
        {
          "output_type": "display_data",
          "data": {
            "text/plain": [
              "<Figure size 640x480 with 1 Axes>"
            ],
            "image/png": "[encoded data removed]"
          },
          "metadata": {}
        }
      ]
    },
    {
      "cell_type": "markdown",
      "source": [
        "As we can see, there are 284807 data entries, each having 31 features. We do not know what most features due to confidentiality issues. The only thing we know for each transaction is time, amount and class. Another thing worth noting about this dataset is that it has a heavily skewed class distribution, where only 492 cases are deemed as fraud incidents, and the other 284315 are just regular transactions.\n",
        "\n",
        "Let us see what happens if we build the model in a straightforward fashion without any data preprocessing, which means ignoring the heavily imbalanced classification and the scaling of time and amount feature that was left unaffected by the PCA transformation, and possible outliers of the features."
      ],
      "metadata": {
        "id": "pFHTuynq4fea"
      }
    },
    {
      "cell_type": "code",
      "source": [
        "from sklearn.model_selection import train_test_split\n",
        "from sklearn.utils import shuffle\n",
        "\n",
        "# split data into training(60%), validation(20%), and test(20%) set\n",
        "x_features = torch.tensor(df.drop(['Time','Class'], axis = 1).values.astype(np.float32))\n",
        "y_target = torch.tensor(df['Class'].values.astype(np.int64))\n",
        "x_train, x_test, y_train, y_test = train_test_split(x_features, y_target, test_size=0.2, random_state=42, stratify=y_target)\n",
        "x_train, x_val, y_train, y_val = train_test_split(x_train, y_train, test_size=0.25, random_state=42, stratify=y_train)  # 0.25 x 0.8 = 0.2"
      ],
      "metadata": {
        "id": "E0hz7GikZ0i4"
      },
      "execution_count": null,
      "outputs": []
    },
    {
      "cell_type": "code",
      "source": [
        "# train the model\n",
        "model = FFNN(input_dim = x_train.shape[1], h = HIDDEN)\n",
        "optimizer = optim.SGD(model.parameters(),lr=0.01, momentum=0.9)\n",
        "print(\"========== Training for {} epochs ==========\".format(EPOCHS))\n",
        "for epoch in range(EPOCHS):\n",
        "    model.train()\n",
        "    optimizer.zero_grad()\n",
        "    loss = None\n",
        "    correct = 0\n",
        "    total = 0\n",
        "    start_time = time.time()\n",
        "    print(\"Training started for epoch {}\".format(epoch + 1))\n",
        "    x_train, y_train = shuffle(x_train, y_train, random_state=42) # Good practice to shuffle order of training data\n",
        "    minibatch_size = 16\n",
        "    N = len(x_train)\n",
        "    for minibatch_index in tqdm(range(N // minibatch_size)):\n",
        "        optimizer.zero_grad()\n",
        "        loss = None\n",
        "        for example_index in range(minibatch_size):\n",
        "            input_vector= x_train[minibatch_index * minibatch_size + example_index]\n",
        "            gold_label =  y_train[minibatch_index * minibatch_size + example_index]\n",
        "            predicted_vector = model(input_vector)\n",
        "            predicted_label = torch.argmax(predicted_vector)\n",
        "            correct += int(predicted_label == gold_label)\n",
        "            total += 1\n",
        "            example_loss = model.compute_Loss(predicted_vector.view(1,-1), torch.tensor([gold_label]))\n",
        "            if loss is None:\n",
        "                loss = example_loss\n",
        "            else:\n",
        "                loss += example_loss\n",
        "        loss = loss / minibatch_size\n",
        "        loss.backward()\n",
        "        optimizer.step()\n",
        "    print(\"Training completed for epoch {}\".format(epoch + 1))\n",
        "    print(\"Training accuracy for epoch {}: {}\".format(epoch + 1, correct / total))\n",
        "    print(\"Training time for this epoch: {}\".format(time.time() - start_time))\n",
        "\n",
        "\n",
        "    loss = None\n",
        "    correct = 0\n",
        "    total = 0\n",
        "    start_time = time.time()\n",
        "    print(\"Validation started for epoch {}\".format(epoch + 1))\n",
        "    minibatch_size = 16\n",
        "    N = len(x_val)\n",
        "    for minibatch_index in tqdm(range(N // minibatch_size)):\n",
        "        optimizer.zero_grad()\n",
        "        loss = None\n",
        "        for example_index in range(minibatch_size):\n",
        "            input_vector = x_val[minibatch_index * minibatch_size + example_index]\n",
        "            gold_label = y_val[minibatch_index * minibatch_size + example_index]\n",
        "            predicted_vector = model(input_vector)\n",
        "            predicted_label = torch.argmax(predicted_vector)\n",
        "            correct += int(predicted_label == gold_label)\n",
        "            total += 1\n",
        "            example_loss = model.compute_Loss(predicted_vector.view(1,-1), torch.tensor([gold_label]))\n",
        "            if loss is None:\n",
        "                loss = example_loss\n",
        "            else:\n",
        "                loss += example_loss\n",
        "        loss = loss / minibatch_size\n",
        "    print(\"Validation completed for epoch {}\".format(epoch + 1))\n",
        "    print(\"Validation accuracy for epoch {}: {}\".format(epoch + 1, correct / total))\n",
        "    print(\"Validation time for this epoch: {}\".format(time.time() - start_time))"
      ],
      "metadata": {
        "colab": {
          "base_uri": "https://localhost:8080/"
        },
        "id": "xF3GjLXINpcP",
        "outputId": "29272128-1295-4e22-9864-36b633e8568b"
      },
      "execution_count": null,
      "outputs": [
        {
          "output_type": "stream",
          "name": "stdout",
          "text": [
            "========== Training for 10 epochs ==========\n",
            "Training started for epoch 1\n"
          ]
        },
        {
          "output_type": "stream",
          "name": "stderr",
          "text": [
            "  0%|          | 0/10680 [00:00<?, ?it/s]/usr/local/lib/python3.10/dist-packages/torch/nn/modules/module.py:1511: UserWarning: Implicit dimension choice for log_softmax has been deprecated. Change the call to include dim=X as an argument.\n",
            "  return self._call_impl(*args, **kwargs)\n",
            "100%|██████████| 10680/10680 [01:12<00:00, 146.96it/s]\n"
          ]
        },
        {
          "output_type": "stream",
          "name": "stdout",
          "text": [
            "Training completed for epoch 1\n",
            "Training accuracy for epoch 1: 0.9985838014981273\n",
            "Training time for this epoch: 72.75037884712219\n",
            "Validation started for epoch 1\n"
          ]
        },
        {
          "output_type": "stream",
          "name": "stderr",
          "text": [
            "100%|██████████| 3560/3560 [00:13<00:00, 260.91it/s]\n"
          ]
        },
        {
          "output_type": "stream",
          "name": "stdout",
          "text": [
            "Validation completed for epoch 1\n",
            "Validation accuracy for epoch 1: 0.9987886235955056\n",
            "Validation time for this epoch: 13.655932903289795\n",
            "Training started for epoch 2\n"
          ]
        },
        {
          "output_type": "stream",
          "name": "stderr",
          "text": [
            "100%|██████████| 10680/10680 [01:15<00:00, 140.66it/s]\n"
          ]
        },
        {
          "output_type": "stream",
          "name": "stdout",
          "text": [
            "Training completed for epoch 2\n",
            "Training accuracy for epoch 2: 0.998817883895131\n",
            "Training time for this epoch: 75.9860770702362\n",
            "Validation started for epoch 2\n"
          ]
        },
        {
          "output_type": "stream",
          "name": "stderr",
          "text": [
            "100%|██████████| 3560/3560 [00:13<00:00, 258.26it/s]\n"
          ]
        },
        {
          "output_type": "stream",
          "name": "stdout",
          "text": [
            "Validation completed for epoch 2\n",
            "Validation accuracy for epoch 2: 0.9986657303370786\n",
            "Validation time for this epoch: 13.792388439178467\n",
            "Training started for epoch 3\n"
          ]
        },
        {
          "output_type": "stream",
          "name": "stderr",
          "text": [
            "100%|██████████| 10680/10680 [01:11<00:00, 148.46it/s]\n"
          ]
        },
        {
          "output_type": "stream",
          "name": "stdout",
          "text": [
            "Training completed for epoch 3\n",
            "Training accuracy for epoch 3: 0.9988295880149812\n",
            "Training time for this epoch: 71.99881386756897\n",
            "Validation started for epoch 3\n"
          ]
        },
        {
          "output_type": "stream",
          "name": "stderr",
          "text": [
            "100%|██████████| 3560/3560 [00:13<00:00, 261.94it/s]\n"
          ]
        },
        {
          "output_type": "stream",
          "name": "stdout",
          "text": [
            "Validation completed for epoch 3\n",
            "Validation accuracy for epoch 3: 0.9986481741573033\n",
            "Validation time for this epoch: 13.60090970993042\n",
            "Training started for epoch 4\n"
          ]
        },
        {
          "output_type": "stream",
          "name": "stderr",
          "text": [
            "100%|██████████| 10680/10680 [01:14<00:00, 142.59it/s]\n"
          ]
        },
        {
          "output_type": "stream",
          "name": "stdout",
          "text": [
            "Training completed for epoch 4\n",
            "Training accuracy for epoch 4: 0.9988647003745318\n",
            "Training time for this epoch: 74.94315195083618\n",
            "Validation started for epoch 4\n"
          ]
        },
        {
          "output_type": "stream",
          "name": "stderr",
          "text": [
            "100%|██████████| 3560/3560 [00:15<00:00, 226.61it/s]\n"
          ]
        },
        {
          "output_type": "stream",
          "name": "stdout",
          "text": [
            "Validation completed for epoch 4\n",
            "Validation accuracy for epoch 4: 0.9986657303370786\n",
            "Validation time for this epoch: 15.716783285140991\n",
            "Training started for epoch 5\n"
          ]
        },
        {
          "output_type": "stream",
          "name": "stderr",
          "text": [
            "100%|██████████| 10680/10680 [01:13<00:00, 144.82it/s]\n"
          ]
        },
        {
          "output_type": "stream",
          "name": "stdout",
          "text": [
            "Training completed for epoch 5\n",
            "Training accuracy for epoch 5: 0.9988412921348314\n",
            "Training time for this epoch: 73.78771924972534\n",
            "Validation started for epoch 5\n"
          ]
        },
        {
          "output_type": "stream",
          "name": "stderr",
          "text": [
            "100%|██████████| 3560/3560 [00:13<00:00, 260.84it/s]\n"
          ]
        },
        {
          "output_type": "stream",
          "name": "stdout",
          "text": [
            "Validation completed for epoch 5\n",
            "Validation accuracy for epoch 5: 0.9987183988764045\n",
            "Validation time for this epoch: 13.656774520874023\n",
            "Training started for epoch 6\n"
          ]
        },
        {
          "output_type": "stream",
          "name": "stderr",
          "text": [
            "100%|██████████| 10680/10680 [01:17<00:00, 138.17it/s]\n"
          ]
        },
        {
          "output_type": "stream",
          "name": "stdout",
          "text": [
            "Training completed for epoch 6\n",
            "Training accuracy for epoch 6: 0.9988705524344569\n",
            "Training time for this epoch: 77.34238338470459\n",
            "Validation started for epoch 6\n"
          ]
        },
        {
          "output_type": "stream",
          "name": "stderr",
          "text": [
            "100%|██████████| 3560/3560 [00:13<00:00, 258.13it/s]\n"
          ]
        },
        {
          "output_type": "stream",
          "name": "stdout",
          "text": [
            "Validation completed for epoch 6\n",
            "Validation accuracy for epoch 6: 0.9986481741573033\n",
            "Validation time for this epoch: 13.7980318069458\n",
            "Training started for epoch 7\n"
          ]
        },
        {
          "output_type": "stream",
          "name": "stderr",
          "text": [
            "100%|██████████| 10680/10680 [01:15<00:00, 142.10it/s]\n"
          ]
        },
        {
          "output_type": "stream",
          "name": "stdout",
          "text": [
            "Training completed for epoch 7\n",
            "Training accuracy for epoch 7: 0.9988529962546816\n",
            "Training time for this epoch: 75.20129919052124\n",
            "Validation started for epoch 7\n"
          ]
        },
        {
          "output_type": "stream",
          "name": "stderr",
          "text": [
            "100%|██████████| 3560/3560 [00:13<00:00, 254.31it/s]\n"
          ]
        },
        {
          "output_type": "stream",
          "name": "stdout",
          "text": [
            "Validation completed for epoch 7\n",
            "Validation accuracy for epoch 7: 0.9986832865168539\n",
            "Validation time for this epoch: 14.009388446807861\n",
            "Training started for epoch 8\n"
          ]
        },
        {
          "output_type": "stream",
          "name": "stderr",
          "text": [
            "100%|██████████| 10680/10680 [01:15<00:00, 141.29it/s]\n"
          ]
        },
        {
          "output_type": "stream",
          "name": "stdout",
          "text": [
            "Training completed for epoch 8\n",
            "Training accuracy for epoch 8: 0.9988881086142322\n",
            "Training time for this epoch: 75.63235521316528\n",
            "Validation started for epoch 8\n"
          ]
        },
        {
          "output_type": "stream",
          "name": "stderr",
          "text": [
            "100%|██████████| 3560/3560 [00:13<00:00, 264.84it/s]\n"
          ]
        },
        {
          "output_type": "stream",
          "name": "stdout",
          "text": [
            "Validation completed for epoch 8\n",
            "Validation accuracy for epoch 8: 0.9987183988764045\n",
            "Validation time for this epoch: 13.450640201568604\n",
            "Training started for epoch 9\n"
          ]
        },
        {
          "output_type": "stream",
          "name": "stderr",
          "text": [
            "100%|██████████| 10680/10680 [01:14<00:00, 142.98it/s]\n"
          ]
        },
        {
          "output_type": "stream",
          "name": "stdout",
          "text": [
            "Training completed for epoch 9\n",
            "Training accuracy for epoch 9: 0.9988705524344569\n",
            "Training time for this epoch: 74.73589634895325\n",
            "Validation started for epoch 9\n"
          ]
        },
        {
          "output_type": "stream",
          "name": "stderr",
          "text": [
            "100%|██████████| 3560/3560 [00:13<00:00, 261.42it/s]\n"
          ]
        },
        {
          "output_type": "stream",
          "name": "stdout",
          "text": [
            "Validation completed for epoch 9\n",
            "Validation accuracy for epoch 9: 0.9986306179775281\n",
            "Validation time for this epoch: 13.628422260284424\n",
            "Training started for epoch 10\n"
          ]
        },
        {
          "output_type": "stream",
          "name": "stderr",
          "text": [
            "100%|██████████| 10680/10680 [01:13<00:00, 144.79it/s]\n"
          ]
        },
        {
          "output_type": "stream",
          "name": "stdout",
          "text": [
            "Training completed for epoch 10\n",
            "Training accuracy for epoch 10: 0.9988939606741573\n",
            "Training time for this epoch: 73.80572772026062\n",
            "Validation started for epoch 10\n"
          ]
        },
        {
          "output_type": "stream",
          "name": "stderr",
          "text": [
            "100%|██████████| 3560/3560 [00:15<00:00, 223.14it/s]"
          ]
        },
        {
          "output_type": "stream",
          "name": "stdout",
          "text": [
            "Validation completed for epoch 10\n",
            "Validation accuracy for epoch 10: 0.9988237359550561\n",
            "Validation time for this epoch: 15.967089653015137\n"
          ]
        },
        {
          "output_type": "stream",
          "name": "stderr",
          "text": [
            "\n"
          ]
        }
      ]
    },
    {
      "cell_type": "code",
      "source": [
        "from sklearn.metrics import confusion_matrix\n",
        "from sklearn.metrics import accuracy_score, precision_score, recall_score, f1_score, roc_auc_score\n",
        "\n",
        "\n",
        "all_predictions = []\n",
        "all_labels = []\n",
        "\n",
        "loss = None\n",
        "correct = 0\n",
        "total = 0\n",
        "start_time = time.time()\n",
        "print(\"========== Accuracy test on the model ==========\")\n",
        "minibatch_size = 16\n",
        "N = len(x_test)\n",
        "for minibatch_index in tqdm(range(N // minibatch_size)):\n",
        "    optimizer.zero_grad()\n",
        "    loss = None\n",
        "    for example_index in range(minibatch_size):\n",
        "        input_vector = x_test[minibatch_index * minibatch_size + example_index]\n",
        "        gold_label = y_test[minibatch_index * minibatch_size + example_index]\n",
        "        predicted_vector = model(input_vector)\n",
        "        predicted_label = torch.argmax(predicted_vector)\n",
        "        correct += int(predicted_label == gold_label)\n",
        "        total += 1\n",
        "        example_loss = model.compute_Loss(predicted_vector.view(1,-1), torch.tensor([gold_label]))\n",
        "        if loss is None:\n",
        "            loss = example_loss\n",
        "        else:\n",
        "            loss += example_loss\n",
        "\n",
        "        all_predictions.append(predicted_label)\n",
        "        all_labels.append(gold_label)\n",
        "    loss = loss / minibatch_size\n",
        "print(\"Accuracy test finished.\")\n",
        "print(\"Accuracy: {}\".format(correct / total))"
      ],
      "metadata": {
        "colab": {
          "base_uri": "https://localhost:8080/"
        },
        "id": "lLkIEpGsy4bm",
        "outputId": "b15c10e1-7029-4f4f-cdf3-b494535d90ca"
      },
      "execution_count": null,
      "outputs": [
        {
          "output_type": "stream",
          "name": "stdout",
          "text": [
            "========== Accuracy test on the model ==========\n"
          ]
        },
        {
          "output_type": "stream",
          "name": "stderr",
          "text": [
            "  0%|          | 0/3560 [00:00<?, ?it/s]/usr/local/lib/python3.10/dist-packages/torch/nn/modules/module.py:1511: UserWarning: Implicit dimension choice for log_softmax has been deprecated. Change the call to include dim=X as an argument.\n",
            "  return self._call_impl(*args, **kwargs)\n",
            "100%|██████████| 3560/3560 [00:17<00:00, 205.33it/s]"
          ]
        },
        {
          "output_type": "stream",
          "name": "stdout",
          "text": [
            "Accuracy test finished.\n",
            "Accuracy: 0.9988412921348314\n"
          ]
        },
        {
          "output_type": "stream",
          "name": "stderr",
          "text": [
            "\n"
          ]
        }
      ]
    },
    {
      "cell_type": "code",
      "source": [
        "# Convert lists to numpy arrays\n",
        "all_predictions = np.array(all_predictions)\n",
        "all_labels = np.array(all_labels)\n",
        "\n",
        "# Calculate confusion matrix\n",
        "conf_matrix = confusion_matrix(all_labels, all_predictions)\n",
        "\n",
        "# Calculate metrics\n",
        "accuracy = accuracy_score(all_labels, all_predictions)\n",
        "precision = precision_score(all_labels, all_predictions)\n",
        "recall = recall_score(all_labels, all_predictions)\n",
        "f1 = f1_score(all_labels, all_predictions)\n",
        "auc = roc_auc_score(all_labels, all_predictions)  # For binary classification\n",
        "\n",
        "# Plot confusion matrix\n",
        "print(conf_matrix)\n",
        "\n",
        "# Display metrics\n",
        "print(f\"Accuracy: {accuracy:.4f}, Precision: {precision:.4f}, Recall: {recall:.4f}, F1: {f1:.4f}, AUC: {auc:.4f}\")"
      ],
      "metadata": {
        "colab": {
          "base_uri": "https://localhost:8080/"
        },
        "id": "5lhXO8hsYjk1",
        "outputId": "8373b926-fd8d-41f9-fe2a-f9f8453eeea9"
      },
      "execution_count": null,
      "outputs": [
        {
          "output_type": "stream",
          "name": "stdout",
          "text": [
            "[[56853     9]\n",
            " [   57    41]]\n",
            "Accuracy: 0.9988, Precision: 0.8200, Recall: 0.4184, F1: 0.5541, AUC: 0.7091\n"
          ]
        }
      ]
    },
    {
      "cell_type": "markdown",
      "source": [
        "As we can see, the accuracy of the model is suspiciously high, even though the dataset has such little fraud cases. From the confusion matrix, we can also see that is not predicting fraud cases as accurately as it should. Is the model correctly predicting the fraud cases, or is the model accuracy coming from the many cases of normal transactions? Let's find out by have the model only run a test on the fraud cases."
      ],
      "metadata": {
        "id": "Bb-uJ9SJz4qO"
      }
    },
    {
      "cell_type": "code",
      "source": [
        "x_target = x_features[y_target == 1]\n",
        "\n",
        "loss = None\n",
        "correct = 0\n",
        "total = 0\n",
        "start_time = time.time()\n",
        "print(\"========== Accuracy test on ONLY fraud cases ==========\")\n",
        "minibatch_size = 16\n",
        "N = len(x_target)\n",
        "for minibatch_index in tqdm(range(N // minibatch_size)):\n",
        "    optimizer.zero_grad()\n",
        "    loss = None\n",
        "    for example_index in range(minibatch_size):\n",
        "        input_vector = x_target[minibatch_index * minibatch_size + example_index]\n",
        "        gold_label = 1\n",
        "        predicted_vector = model(input_vector)\n",
        "        predicted_label = torch.argmax(predicted_vector)\n",
        "        correct += int(predicted_label == gold_label)\n",
        "        total += 1\n",
        "        example_loss = model.compute_Loss(predicted_vector.view(1,-1), torch.tensor([gold_label]))\n",
        "        if loss is None:\n",
        "            loss = example_loss\n",
        "        else:\n",
        "            loss += example_loss\n",
        "    loss = loss / minibatch_size\n",
        "print(\"Accuracy test finished.\")\n",
        "print(\"Accuracy: {}\".format(correct / total))"
      ],
      "metadata": {
        "colab": {
          "base_uri": "https://localhost:8080/"
        },
        "id": "8KbNH_sQ0d3c",
        "outputId": "831d349a-54e9-4d44-96f2-934937618cbe"
      },
      "execution_count": null,
      "outputs": [
        {
          "output_type": "stream",
          "name": "stdout",
          "text": [
            "========== Accuracy test on ONLY fraud cases ==========\n"
          ]
        },
        {
          "output_type": "stream",
          "name": "stderr",
          "text": [
            "  0%|          | 0/30 [00:00<?, ?it/s]/usr/local/lib/python3.10/dist-packages/torch/nn/modules/module.py:1511: UserWarning: Implicit dimension choice for log_softmax has been deprecated. Change the call to include dim=X as an argument.\n",
            "  return self._call_impl(*args, **kwargs)\n",
            "100%|██████████| 30/30 [00:00<00:00, 136.56it/s]"
          ]
        },
        {
          "output_type": "stream",
          "name": "stdout",
          "text": [
            "Accuracy test finished.\n",
            "Accuracy: 0.46875\n"
          ]
        },
        {
          "output_type": "stream",
          "name": "stderr",
          "text": [
            "\n"
          ]
        }
      ]
    },
    {
      "cell_type": "markdown",
      "source": [
        "As we can see, when running the model with only fraud cases, it is only able to get it right 30% of the time. Thus, this data imbalance has to be dealt with for us to get accurate results. Let us redo the model, starting with data preprocessing.\n",
        "\n",
        "There are 4 steps to this process.\n",
        "\n",
        "1. Scale the data\n",
        "2. Split the data into training, validation and test sets\n",
        "3. SMOTE\n",
        "4. Random undersampling"
      ],
      "metadata": {
        "id": "MrTOM9Cb73ym"
      }
    },
    {
      "cell_type": "markdown",
      "source": [
        "#**Scaling the data**\n",
        "Why do we scale the data? This is to ensure value uniformity across features such that no one feature affects the outcome more due to it having skewed values."
      ],
      "metadata": {
        "id": "_72HhwxglpMg"
      }
    },
    {
      "cell_type": "code",
      "source": [
        "from sklearn.preprocessing import StandardScaler\n",
        "\n",
        "sc = StandardScaler()\n",
        "x_features = sc.fit_transform(x_features)\n",
        "\n",
        "x_features[0]"
      ],
      "metadata": {
        "id": "dU56gM-h8IKd",
        "colab": {
          "base_uri": "https://localhost:8080/"
        },
        "outputId": "35e45760-a04c-4844-f751-12feac4a21af"
      },
      "execution_count": null,
      "outputs": [
        {
          "output_type": "execute_result",
          "data": {
            "text/plain": [
              "array([-0.69424232, -0.04407493,  1.67277346,  0.97336552, -0.24511658,\n",
              "        0.34706794,  0.19367894,  0.08263728,  0.33112778,  0.08338554,\n",
              "       -0.54040706, -0.61829569, -0.99609895, -0.32461019,  1.60401383,\n",
              "       -0.53683285,  0.24486346,  0.03076993,  0.49628202,  0.32611801,\n",
              "       -0.02492337,  0.38285444, -0.17691133,  0.11050692,  0.24658543,\n",
              "       -0.39217042,  0.33089163, -0.06378115,  0.24496424])"
            ]
          },
          "metadata": {},
          "execution_count": 37
        }
      ]
    },
    {
      "cell_type": "markdown",
      "source": [
        "# **Splitting the data**"
      ],
      "metadata": {
        "id": "EhJ1ZmfC8mIZ"
      }
    },
    {
      "cell_type": "code",
      "source": [
        "# split data into training(60%), validation(20%), and test(20%) set\n",
        "x_train, x_test, y_train, y_test = train_test_split(x_features, y_target, test_size=0.2, random_state=42, stratify=y_target)\n",
        "x_train, x_val, y_train, y_val = train_test_split(x_train, y_train, test_size=0.25, random_state=42, stratify=y_train)  # 0.25 x 0.8 = 0.2"
      ],
      "metadata": {
        "id": "gZkgHmRo8ows"
      },
      "execution_count": null,
      "outputs": []
    },
    {
      "cell_type": "markdown",
      "source": [
        "# **SMOTE**\n",
        "SMOTE, acronym for Synthetic Minority Oversampling Technique, is the first part in making an imbalanced dataset usable. SMOTE works by synthesize new examples from the minory class. It starts by selecting examples that are close in the feature space, and look for nearest neighbors as synthetic example candidates."
      ],
      "metadata": {
        "id": "TNugWHyiFZoG"
      }
    },
    {
      "cell_type": "code",
      "source": [
        "from imblearn.over_sampling import SMOTE\n",
        "\n",
        "smote = SMOTE(sampling_strategy=0.1, random_state=42)\n",
        "x_train_resampled, y_train_resampled = smote.fit_resample(x_train, y_train)\n",
        "\n",
        "sns.countplot(x=pd.Series(y_train_resampled))\n",
        "plt.title('Class Distributions \\n (0: No Fraud || 1: Fraud)', fontsize=14)\n",
        "plt.show()"
      ],
      "metadata": {
        "id": "93w0rqEME-pN",
        "colab": {
          "base_uri": "https://localhost:8080/",
          "height": 495
        },
        "outputId": "8f38bd0f-ac41-47b4-8cbd-87e01cd8f523"
      },
      "execution_count": null,
      "outputs": [
        {
          "output_type": "display_data",
          "data": {
            "text/plain": [
              "<Figure size 640x480 with 1 Axes>"
            ],
            "image/png": "[encoded data removed]"
          },
          "metadata": {}
        }
      ]
    },
    {
      "cell_type": "markdown",
      "source": [
        "# **Random undersampling**\n",
        "This is the second part to make an imbalanced dataset usable. Random undersampling works by sampling a lesser amount of the majority class in order to balance out the class distribution. Normally, this can be used on its on, but together with SMOTE, the data comes out more refined with less loss in information."
      ],
      "metadata": {
        "id": "lCktC0jlCkRS"
      }
    },
    {
      "cell_type": "code",
      "source": [
        "from imblearn.under_sampling import RandomUnderSampler\n",
        "\n",
        "under = RandomUnderSampler(sampling_strategy=0.5, random_state=42)\n",
        "x_train_resampled, y_train_resampled = under.fit_resample(x_train, y_train)\n",
        "\n",
        "sns.countplot(x=pd.Series(y_train_resampled))\n",
        "plt.title('Class Distributions \\n (0: No Fraud || 1: Fraud)', fontsize=14)\n",
        "plt.show()"
      ],
      "metadata": {
        "id": "VyzVuUd3DOYC",
        "colab": {
          "base_uri": "https://localhost:8080/",
          "height": 495
        },
        "outputId": "d8168008-312f-44b1-b062-8bb8851a9c10"
      },
      "execution_count": null,
      "outputs": [
        {
          "output_type": "display_data",
          "data": {
            "text/plain": [
              "<Figure size 640x480 with 1 Axes>"
            ],
            "image/png": "[encoded data removed]"
          },
          "metadata": {}
        }
      ]
    },
    {
      "cell_type": "markdown",
      "source": [
        "After all the data preprocessing, let's try and retrain the model."
      ],
      "metadata": {
        "id": "v9P_PCdVHjqv"
      }
    },
    {
      "cell_type": "code",
      "source": [
        "# train the model\n",
        "model = FFNN(input_dim = x_train_resampled.shape[1], h = HIDDEN)\n",
        "optimizer = optim.SGD(model.parameters(),lr=0.01, momentum=0.9)\n",
        "print(\"========== Training for {} epochs ==========\".format(EPOCHS))\n",
        "for epoch in range(EPOCHS):\n",
        "    model.train()\n",
        "    optimizer.zero_grad()\n",
        "    loss = None\n",
        "    correct = 0\n",
        "    total = 0\n",
        "    start_time = time.time()\n",
        "    print(\"Training started for epoch {}\".format(epoch + 1))\n",
        "    x_train_resampled, y_train_resampled = shuffle(x_train_resampled, y_train_resampled, random_state=42) # Good practice to shuffle order of training data\n",
        "    minibatch_size = 16\n",
        "    N = len(x_train_resampled)\n",
        "    for minibatch_index in tqdm(range(N // minibatch_size)):\n",
        "        optimizer.zero_grad()\n",
        "        loss = None\n",
        "        for example_index in range(minibatch_size):\n",
        "            input_vector= x_train_resampled[minibatch_index * minibatch_size + example_index]\n",
        "            gold_label =  y_train_resampled[minibatch_index * minibatch_size + example_index]\n",
        "            predicted_vector = model(torch.tensor(input_vector.astype(np.float32)))\n",
        "            predicted_label = torch.argmax(predicted_vector)\n",
        "            correct += int(predicted_label == gold_label)\n",
        "            total += 1\n",
        "            example_loss = model.compute_Loss(predicted_vector.view(1,-1), torch.tensor([gold_label]))\n",
        "            if loss is None:\n",
        "                loss = example_loss\n",
        "            else:\n",
        "                loss += example_loss\n",
        "        loss = loss / minibatch_size\n",
        "        loss.backward()\n",
        "        optimizer.step()\n",
        "    print(\"Training completed for epoch {}\".format(epoch + 1))\n",
        "    print(\"Training accuracy for epoch {}: {}\".format(epoch + 1, correct / total))\n",
        "    print(\"Training time for this epoch: {}\".format(time.time() - start_time))\n",
        "\n",
        "\n",
        "    loss = None\n",
        "    correct = 0\n",
        "    total = 0\n",
        "    start_time = time.time()\n",
        "    print(\"Validation started for epoch {}\".format(epoch + 1))\n",
        "    minibatch_size = 16\n",
        "    N = len(x_val)\n",
        "    for minibatch_index in tqdm(range(N // minibatch_size)):\n",
        "        optimizer.zero_grad()\n",
        "        loss = None\n",
        "        for example_index in range(minibatch_size):\n",
        "            input_vector = x_val[minibatch_index * minibatch_size + example_index]\n",
        "            gold_label = y_val[minibatch_index * minibatch_size + example_index]\n",
        "            predicted_vector = model(torch.tensor(input_vector.astype(np.float32)))\n",
        "            predicted_label = torch.argmax(predicted_vector)\n",
        "            correct += int(predicted_label == gold_label)\n",
        "            total += 1\n",
        "            example_loss = model.compute_Loss(predicted_vector.view(1,-1), torch.tensor([gold_label]))\n",
        "            if loss is None:\n",
        "                loss = example_loss\n",
        "            else:\n",
        "                loss += example_loss\n",
        "        loss = loss / minibatch_size\n",
        "    print(\"Validation completed for epoch {}\".format(epoch + 1))\n",
        "    print(\"Validation accuracy for epoch {}: {}\".format(epoch + 1, correct / total))\n",
        "    print(\"Validation time for this epoch: {}\".format(time.time() - start_time))"
      ],
      "metadata": {
        "colab": {
          "base_uri": "https://localhost:8080/"
        },
        "id": "q6rxitnlHsNY",
        "outputId": "3131e219-946d-4a80-8d7c-b73502d7cca7"
      },
      "execution_count": null,
      "outputs": [
        {
          "output_type": "stream",
          "name": "stdout",
          "text": [
            "========== Training for 10 epochs ==========\n",
            "Training started for epoch 1\n"
          ]
        },
        {
          "output_type": "stream",
          "name": "stderr",
          "text": [
            "100%|██████████| 55/55 [00:00<00:00, 95.82it/s]\n"
          ]
        },
        {
          "output_type": "stream",
          "name": "stdout",
          "text": [
            "Training completed for epoch 1\n",
            "Training accuracy for epoch 1: 0.9068181818181819\n",
            "Training time for this epoch: 0.5905234813690186\n",
            "Validation started for epoch 1\n"
          ]
        },
        {
          "output_type": "stream",
          "name": "stderr",
          "text": [
            "100%|██████████| 3560/3560 [00:20<00:00, 174.51it/s]\n"
          ]
        },
        {
          "output_type": "stream",
          "name": "stdout",
          "text": [
            "Validation completed for epoch 1\n",
            "Validation accuracy for epoch 1: 0.9948735955056179\n",
            "Validation time for this epoch: 20.413835048675537\n",
            "Training started for epoch 2\n"
          ]
        },
        {
          "output_type": "stream",
          "name": "stderr",
          "text": [
            "100%|██████████| 55/55 [00:00<00:00, 65.18it/s]\n"
          ]
        },
        {
          "output_type": "stream",
          "name": "stdout",
          "text": [
            "Training completed for epoch 2\n",
            "Training accuracy for epoch 2: 0.9534090909090909\n",
            "Training time for this epoch: 0.8683526515960693\n",
            "Validation started for epoch 2\n"
          ]
        },
        {
          "output_type": "stream",
          "name": "stderr",
          "text": [
            "100%|██████████| 3560/3560 [00:17<00:00, 205.71it/s]\n"
          ]
        },
        {
          "output_type": "stream",
          "name": "stdout",
          "text": [
            "Validation completed for epoch 2\n",
            "Validation accuracy for epoch 2: 0.9888869382022472\n",
            "Validation time for this epoch: 17.31487488746643\n",
            "Training started for epoch 3\n"
          ]
        },
        {
          "output_type": "stream",
          "name": "stderr",
          "text": [
            "100%|██████████| 55/55 [00:00<00:00, 147.96it/s]\n"
          ]
        },
        {
          "output_type": "stream",
          "name": "stdout",
          "text": [
            "Training completed for epoch 3\n",
            "Training accuracy for epoch 3: 0.9579545454545455\n",
            "Training time for this epoch: 0.3800690174102783\n",
            "Validation started for epoch 3\n"
          ]
        },
        {
          "output_type": "stream",
          "name": "stderr",
          "text": [
            "100%|██████████| 3560/3560 [00:16<00:00, 215.51it/s]\n"
          ]
        },
        {
          "output_type": "stream",
          "name": "stdout",
          "text": [
            "Validation completed for epoch 3\n",
            "Validation accuracy for epoch 3: 0.9846558988764045\n",
            "Validation time for this epoch: 16.528299570083618\n",
            "Training started for epoch 4\n"
          ]
        },
        {
          "output_type": "stream",
          "name": "stderr",
          "text": [
            "100%|██████████| 55/55 [00:00<00:00, 139.12it/s]\n"
          ]
        },
        {
          "output_type": "stream",
          "name": "stdout",
          "text": [
            "Training completed for epoch 4\n",
            "Training accuracy for epoch 4: 0.9636363636363636\n",
            "Training time for this epoch: 0.4072999954223633\n",
            "Validation started for epoch 4\n"
          ]
        },
        {
          "output_type": "stream",
          "name": "stderr",
          "text": [
            "100%|██████████| 3560/3560 [00:17<00:00, 203.41it/s]\n"
          ]
        },
        {
          "output_type": "stream",
          "name": "stdout",
          "text": [
            "Validation completed for epoch 4\n",
            "Validation accuracy for epoch 4: 0.9875702247191012\n",
            "Validation time for this epoch: 17.51264715194702\n",
            "Training started for epoch 5\n"
          ]
        },
        {
          "output_type": "stream",
          "name": "stderr",
          "text": [
            "100%|██████████| 55/55 [00:00<00:00, 90.12it/s]\n"
          ]
        },
        {
          "output_type": "stream",
          "name": "stdout",
          "text": [
            "Training completed for epoch 5\n",
            "Training accuracy for epoch 5: 0.9647727272727272\n",
            "Training time for this epoch: 0.6220624446868896\n",
            "Validation started for epoch 5\n"
          ]
        },
        {
          "output_type": "stream",
          "name": "stderr",
          "text": [
            "100%|██████████| 3560/3560 [00:16<00:00, 215.29it/s]\n"
          ]
        },
        {
          "output_type": "stream",
          "name": "stdout",
          "text": [
            "Validation completed for epoch 5\n",
            "Validation accuracy for epoch 5: 0.984375\n",
            "Validation time for this epoch: 16.542237758636475\n",
            "Training started for epoch 6\n"
          ]
        },
        {
          "output_type": "stream",
          "name": "stderr",
          "text": [
            "100%|██████████| 55/55 [00:00<00:00, 138.37it/s]\n"
          ]
        },
        {
          "output_type": "stream",
          "name": "stdout",
          "text": [
            "Training completed for epoch 6\n",
            "Training accuracy for epoch 6: 0.9670454545454545\n",
            "Training time for this epoch: 0.4084591865539551\n",
            "Validation started for epoch 6\n"
          ]
        },
        {
          "output_type": "stream",
          "name": "stderr",
          "text": [
            "100%|██████████| 3560/3560 [00:18<00:00, 191.74it/s]\n"
          ]
        },
        {
          "output_type": "stream",
          "name": "stdout",
          "text": [
            "Validation completed for epoch 6\n",
            "Validation accuracy for epoch 6: 0.9823033707865169\n",
            "Validation time for this epoch: 18.57511806488037\n",
            "Training started for epoch 7\n"
          ]
        },
        {
          "output_type": "stream",
          "name": "stderr",
          "text": [
            "100%|██████████| 55/55 [00:00<00:00, 148.48it/s]\n"
          ]
        },
        {
          "output_type": "stream",
          "name": "stdout",
          "text": [
            "Training completed for epoch 7\n",
            "Training accuracy for epoch 7: 0.9659090909090909\n",
            "Training time for this epoch: 0.3833351135253906\n",
            "Validation started for epoch 7\n"
          ]
        },
        {
          "output_type": "stream",
          "name": "stderr",
          "text": [
            "100%|██████████| 3560/3560 [00:16<00:00, 218.71it/s]\n"
          ]
        },
        {
          "output_type": "stream",
          "name": "stdout",
          "text": [
            "Validation completed for epoch 7\n",
            "Validation accuracy for epoch 7: 0.9829880617977528\n",
            "Validation time for this epoch: 16.283143758773804\n",
            "Training started for epoch 8\n"
          ]
        },
        {
          "output_type": "stream",
          "name": "stderr",
          "text": [
            "100%|██████████| 55/55 [00:00<00:00, 151.16it/s]\n"
          ]
        },
        {
          "output_type": "stream",
          "name": "stdout",
          "text": [
            "Training completed for epoch 8\n",
            "Training accuracy for epoch 8: 0.9681818181818181\n",
            "Training time for this epoch: 0.3749575614929199\n",
            "Validation started for epoch 8\n"
          ]
        },
        {
          "output_type": "stream",
          "name": "stderr",
          "text": [
            "100%|██████████| 3560/3560 [00:16<00:00, 214.65it/s]\n"
          ]
        },
        {
          "output_type": "stream",
          "name": "stdout",
          "text": [
            "Validation completed for epoch 8\n",
            "Validation accuracy for epoch 8: 0.9859550561797753\n",
            "Validation time for this epoch: 16.594195127487183\n",
            "Training started for epoch 9\n"
          ]
        },
        {
          "output_type": "stream",
          "name": "stderr",
          "text": [
            "100%|██████████| 55/55 [00:00<00:00, 143.72it/s]\n"
          ]
        },
        {
          "output_type": "stream",
          "name": "stdout",
          "text": [
            "Training completed for epoch 9\n",
            "Training accuracy for epoch 9: 0.9681818181818181\n",
            "Training time for this epoch: 0.39212989807128906\n",
            "Validation started for epoch 9\n"
          ]
        },
        {
          "output_type": "stream",
          "name": "stderr",
          "text": [
            "100%|██████████| 3560/3560 [00:18<00:00, 196.18it/s]\n"
          ]
        },
        {
          "output_type": "stream",
          "name": "stdout",
          "text": [
            "Validation completed for epoch 9\n",
            "Validation accuracy for epoch 9: 0.9831460674157303\n",
            "Validation time for this epoch: 18.154494524002075\n",
            "Training started for epoch 10\n"
          ]
        },
        {
          "output_type": "stream",
          "name": "stderr",
          "text": [
            "100%|██████████| 55/55 [00:00<00:00, 81.80it/s]\n"
          ]
        },
        {
          "output_type": "stream",
          "name": "stdout",
          "text": [
            "Training completed for epoch 10\n",
            "Training accuracy for epoch 10: 0.9727272727272728\n",
            "Training time for this epoch: 0.684072732925415\n",
            "Validation started for epoch 10\n"
          ]
        },
        {
          "output_type": "stream",
          "name": "stderr",
          "text": [
            "100%|██████████| 3560/3560 [00:17<00:00, 208.01it/s]"
          ]
        },
        {
          "output_type": "stream",
          "name": "stdout",
          "text": [
            "Validation completed for epoch 10\n",
            "Validation accuracy for epoch 10: 0.9796523876404495\n",
            "Validation time for this epoch: 17.124439001083374\n"
          ]
        },
        {
          "output_type": "stream",
          "name": "stderr",
          "text": [
            "\n"
          ]
        }
      ]
    },
    {
      "cell_type": "code",
      "source": [
        "all_predictions = []\n",
        "all_labels = []\n",
        "\n",
        "loss = None\n",
        "correct = 0\n",
        "total = 0\n",
        "start_time = time.time()\n",
        "print(\"========== Accuracy test on the model ==========\")\n",
        "minibatch_size = 16\n",
        "N = len(x_test)\n",
        "for minibatch_index in tqdm(range(N // minibatch_size)):\n",
        "    optimizer.zero_grad()\n",
        "    loss = None\n",
        "    for example_index in range(minibatch_size):\n",
        "        input_vector = x_test[minibatch_index * minibatch_size + example_index]\n",
        "        gold_label = y_test[minibatch_index * minibatch_size + example_index]\n",
        "        predicted_vector = model(torch.tensor(input_vector.astype(np.float32)))\n",
        "        predicted_label = torch.argmax(predicted_vector)\n",
        "        correct += int(predicted_label == gold_label)\n",
        "        total += 1\n",
        "        example_loss = model.compute_Loss(predicted_vector.view(1,-1), torch.tensor([gold_label]))\n",
        "        if loss is None:\n",
        "            loss = example_loss\n",
        "        else:\n",
        "            loss += example_loss\n",
        "        all_predictions.append(predicted_label)\n",
        "        all_labels.append(gold_label)\n",
        "    loss = loss / minibatch_size\n",
        "print(\"Accuracy test finished.\")\n",
        "print(\"Accuracy: {}\".format(correct / total))"
      ],
      "metadata": {
        "colab": {
          "base_uri": "https://localhost:8080/"
        },
        "id": "qpJp8BHKKbti",
        "outputId": "e9677bd4-08e1-4914-826b-5dff2b4d4e9e"
      },
      "execution_count": null,
      "outputs": [
        {
          "output_type": "stream",
          "name": "stdout",
          "text": [
            "========== Accuracy test on the model ==========\n"
          ]
        },
        {
          "output_type": "stream",
          "name": "stderr",
          "text": [
            "100%|██████████| 3560/3560 [00:16<00:00, 214.24it/s]"
          ]
        },
        {
          "output_type": "stream",
          "name": "stdout",
          "text": [
            "Accuracy test finished.\n",
            "Accuracy: 0.9793890449438202\n"
          ]
        },
        {
          "output_type": "stream",
          "name": "stderr",
          "text": [
            "\n"
          ]
        }
      ]
    },
    {
      "cell_type": "code",
      "source": [
        "# Convert lists to numpy arrays\n",
        "all_predictions = np.array(all_predictions)\n",
        "all_labels = np.array(all_labels)\n",
        "\n",
        "# Calculate confusion matrix\n",
        "conf_matrix = confusion_matrix(all_labels, all_predictions)\n",
        "\n",
        "# Calculate metrics\n",
        "accuracy = accuracy_score(all_labels, all_predictions)\n",
        "precision = precision_score(all_labels, all_predictions)\n",
        "recall = recall_score(all_labels, all_predictions)\n",
        "f1 = f1_score(all_labels, all_predictions)\n",
        "auc = roc_auc_score(all_labels, all_predictions)  # For binary classification\n",
        "\n",
        "# Plot confusion matrix\n",
        "print(conf_matrix)\n",
        "\n",
        "# Display metrics\n",
        "print(f\"Accuracy: {accuracy:.4f}, Precision: {precision:.4f}, Recall: {recall:.4f}, F1: {f1:.4f}, AUC: {auc:.4f}\")"
      ],
      "metadata": {
        "colab": {
          "base_uri": "https://localhost:8080/"
        },
        "id": "fIf7r_M5oh12",
        "outputId": "9d48e8bc-5dce-4c0b-ebd5-795049e3f3a6"
      },
      "execution_count": null,
      "outputs": [
        {
          "output_type": "stream",
          "name": "stdout",
          "text": [
            "[[55697  1165]\n",
            " [    9    89]]\n",
            "Accuracy: 0.9794, Precision: 0.0710, Recall: 0.9082, F1: 0.1317, AUC: 0.9438\n"
          ]
        }
      ]
    },
    {
      "cell_type": "code",
      "source": [
        "loss = None\n",
        "correct = 0\n",
        "total = 0\n",
        "start_time = time.time()\n",
        "print(\"========== Accuracy test on ONLY fraud cases ==========\")\n",
        "minibatch_size = 16\n",
        "N = len(x_target)\n",
        "for minibatch_index in tqdm(range(N // minibatch_size)):\n",
        "    optimizer.zero_grad()\n",
        "    loss = None\n",
        "    for example_index in range(minibatch_size):\n",
        "        input_vector = x_target[minibatch_index * minibatch_size + example_index]\n",
        "        gold_label = 1\n",
        "        predicted_vector = model(input_vector)\n",
        "        predicted_label = torch.argmax(predicted_vector)\n",
        "        correct += int(predicted_label == gold_label)\n",
        "        total += 1\n",
        "        example_loss = model.compute_Loss(predicted_vector.view(1,-1), torch.tensor([gold_label]))\n",
        "        if loss is None:\n",
        "            loss = example_loss\n",
        "        else:\n",
        "            loss += example_loss\n",
        "    loss = loss / minibatch_size\n",
        "print(\"Accuracy test finished.\")\n",
        "print(\"Accuracy: {}\".format(correct / total))"
      ],
      "metadata": {
        "colab": {
          "base_uri": "https://localhost:8080/"
        },
        "id": "VRQMq2_hKsXf",
        "outputId": "5d3b3b74-dcec-4209-e954-4a4490555950"
      },
      "execution_count": null,
      "outputs": [
        {
          "output_type": "stream",
          "name": "stdout",
          "text": [
            "========== Accuracy test on ONLY fraud cases ==========\n"
          ]
        },
        {
          "output_type": "stream",
          "name": "stderr",
          "text": [
            "100%|██████████| 30/30 [00:00<00:00, 290.05it/s]"
          ]
        },
        {
          "output_type": "stream",
          "name": "stdout",
          "text": [
            "Accuracy test finished.\n",
            "Accuracy: 0.9645833333333333\n"
          ]
        },
        {
          "output_type": "stream",
          "name": "stderr",
          "text": [
            "\n"
          ]
        }
      ]
    }
  ]
}